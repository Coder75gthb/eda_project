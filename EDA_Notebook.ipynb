{
 "cells": [
  {
   "cell_type": "markdown",
   "id": "63c5e1e3",
   "metadata": {},
   "source": [
    "### Importing Required Libraries"
   ]
  },
  {
   "cell_type": "code",
   "execution_count": 1,
   "id": "4d95fab6",
   "metadata": {},
   "outputs": [],
   "source": [
    "import pandas as pd\n",
    "import numpy as np\n",
    "import matplotlib.pyplot as plt\n",
    "import seaborn as sns\n",
    "\n",
    "from sklearn.model_selection import train_test_split\n",
    "from sklearn.linear_model import LinearRegression\n",
    "from sklearn.metrics import mean_absolute_error, mean_squared_error, r2_score"
   ]
  },
  {
   "cell_type": "markdown",
   "id": "3c4ec5a4",
   "metadata": {},
   "source": [
    "### Load the Dataset"
   ]
  },
  {
   "cell_type": "code",
   "execution_count": 2,
   "id": "7d40e82f",
   "metadata": {},
   "outputs": [],
   "source": [
    "df = pd.read_csv(\"C:\\\\Users\\\\Aayush\\\\Desktop\\\\EDA PROJECT\\\\student_habits_performance.csv\")"
   ]
  },
  {
   "cell_type": "markdown",
   "id": "a2349914",
   "metadata": {},
   "source": [
    "### Initial Data Overview"
   ]
  },
  {
   "cell_type": "code",
   "execution_count": 3,
   "id": "1f550065",
   "metadata": {},
   "outputs": [
    {
     "name": "stdout",
     "output_type": "stream",
     "text": [
      "(1000, 16)\n",
      "student_id                        0\n",
      "age                               0\n",
      "gender                            0\n",
      "study_hours_per_day               0\n",
      "social_media_hours                0\n",
      "netflix_hours                     0\n",
      "part_time_job                     0\n",
      "attendance_percentage             0\n",
      "sleep_hours                       0\n",
      "diet_quality                      0\n",
      "exercise_frequency                0\n",
      "parental_education_level         91\n",
      "internet_quality                  0\n",
      "mental_health_rating              0\n",
      "extracurricular_participation     0\n",
      "exam_score                        0\n",
      "dtype: int64\n",
      "0    High School\n",
      "Name: parental_education_level, dtype: object\n",
      "parental_education_level\n",
      "High School    392\n",
      "Bachelor       350\n",
      "Master         167\n",
      "Name: count, dtype: int64\n"
     ]
    }
   ],
   "source": [
    "# Checking the shape of the dataset\n",
    "print(df.shape)\n",
    "\n",
    "# Checking for missing values\n",
    "print(df.isnull().sum())\n",
    "\n",
    "# Checking mode and value counts of 'parental_education_level'\n",
    "print(df.parental_education_level.mode())\n",
    "print(df.parental_education_level.value_counts())"
   ]
  },
  {
   "cell_type": "markdown",
   "id": "36ad48f0",
   "metadata": {},
   "source": [
    "### Handling Missing Values"
   ]
  },
  {
   "cell_type": "code",
   "execution_count": null,
   "id": "a78eb5cc",
   "metadata": {},
   "outputs": [],
   "source": [
    "df1 = df.copy()\n",
    "df1.parental_education_level = df1.parental_education_level.fillna(\"High School\")\n",
    "\n",
    "# Confirming missing values have been filled\n",
    "# print(df1.info())"
   ]
  },
  {
   "cell_type": "markdown",
   "id": "a28286a8",
   "metadata": {},
   "source": [
    "###  Visualizing Outliers Using Boxplots"
   ]
  },
  {
   "cell_type": "code",
   "execution_count": null,
   "id": "ba25a5a3",
   "metadata": {},
   "outputs": [],
   "source": [
    "fig, axes = plt.subplots(3, 3)\n",
    "plt.tight_layout(pad=2)\n",
    "\n",
    "axes[0, 0].boxplot(x=df1.age)\n",
    "axes[0, 1].boxplot(df1.study_hours_per_day)\n",
    "axes[0, 2].boxplot(df1.social_media_hours)\n",
    "axes[1, 0].boxplot(df1.netflix_hours)\n",
    "axes[1, 1].boxplot(df1.attendance_percentage)\n",
    "axes[1, 2].boxplot(df1.sleep_hours)\n",
    "axes[2, 0].boxplot(df1.exercise_frequency)\n",
    "axes[2, 1].boxplot(df1.mental_health_rating)\n",
    "axes[2, 2].boxplot(df1.exam_score)\n",
    "\n",
    "plt.show()"
   ]
  },
  {
   "cell_type": "markdown",
   "id": "fe2218b0",
   "metadata": {},
   "source": [
    "###  Outlier Treatment Using IQR Method"
   ]
  },
  {
   "cell_type": "code",
   "execution_count": null,
   "id": "56df75eb",
   "metadata": {},
   "outputs": [],
   "source": [
    "for col in df1.select_dtypes(include=['float64', 'int64']):\n",
    "    Q1 = df1[col].quantile(0.25)\n",
    "    Q3 = df1[col].quantile(0.75)\n",
    "    IQR = Q3 - Q1\n",
    "    lower = Q1 - 1.5 * IQR\n",
    "    upper = Q3 + 1.5 * IQR\n",
    "    is_outlier = (df1[col] < lower) | (df1[col] > upper)\n",
    "\n",
    "    # Replace outliers with mean\n",
    "    df1.loc[is_outlier, col] = df1[col].mean()"
   ]
  },
  {
   "cell_type": "markdown",
   "id": "9720088e",
   "metadata": {},
   "source": [
    "###  Analyzing Categorical Features"
   ]
  },
  {
   "cell_type": "code",
   "execution_count": null,
   "id": "5964e865",
   "metadata": {},
   "outputs": [],
   "source": [
    "print(df1.gender.value_counts())\n",
    "print(df1.part_time_job.value_counts())\n",
    "print(df1.diet_quality.value_counts())\n",
    "print(df1.exercise_frequency.value_counts())\n",
    "print(df1.parental_education_level.value_counts())\n",
    "print(df1.internet_quality.value_counts())\n",
    "print(df1.extracurricular_participation.value_counts())"
   ]
  },
  {
   "cell_type": "markdown",
   "id": "13a51245",
   "metadata": {},
   "source": [
    "### Visualizing Categorical Distributions"
   ]
  },
  {
   "cell_type": "code",
   "execution_count": null,
   "id": "ca3e5a5e",
   "metadata": {},
   "outputs": [],
   "source": [
    "fig, axes = plt.subplots(3, 2, figsize=(12, 10))\n",
    "plt.tight_layout(pad=2)\n",
    "\n",
    "sns.countplot(x='gender', data=df1, ax=axes[0, 0])\n",
    "sns.countplot(x='part_time_job', data=df1, ax=axes[0, 1])\n",
    "sns.countplot(x='diet_quality', data=df1, ax=axes[1, 0])\n",
    "sns.countplot(x='exercise_frequency', data=df1, ax=axes[1, 1])\n",
    "sns.countplot(x='parental_education_level', data=df1, ax=axes[2, 0])\n",
    "sns.countplot(x='internet_quality', data=df1, ax=axes[2, 1])\n",
    "\n",
    "plt.show()\n",
    "\n",
    "sns.countplot(df1.extracurricular_participation)\n",
    "plt.show()"
   ]
  },
  {
   "cell_type": "markdown",
   "id": "7b84fdd2",
   "metadata": {},
   "source": [
    "###  Correlation Heatmap with Encoded Data"
   ]
  },
  {
   "cell_type": "code",
   "execution_count": null,
   "id": "7c12434c",
   "metadata": {},
   "outputs": [],
   "source": [
    "df1_numeric = df1.select_dtypes(include=['number']).copy()\n",
    "df1_numeric['gender'] = df1['gender'].map({'Male': 0, 'Female': 1})\n",
    "df1_numeric['part_time_job'] = df1['part_time_job'].map({'No': 0, 'Yes': 1})\n",
    "\n",
    "plt.figure(figsize=(10, 10))\n",
    "corr = df1_numeric.corr()\n",
    "sns.heatmap(corr, annot=True, cmap='coolwarm')\n",
    "plt.show()"
   ]
  },
  {
   "cell_type": "markdown",
   "id": "924838d4",
   "metadata": {},
   "source": [
    "### Grouped Analysis with Heatmaps"
   ]
  },
  {
   "cell_type": "code",
   "execution_count": null,
   "id": "31a9ec43",
   "metadata": {},
   "outputs": [],
   "source": [
    "numeric_cols = df.select_dtypes(include='number').columns\n",
    "\n",
    "grouped1 = df.groupby('parental_education_level')[numeric_cols].mean()\n",
    "grouped2 = df.groupby('diet_quality')[numeric_cols].mean()\n",
    "grouped3 = df.groupby('internet_quality')[numeric_cols].mean()\n",
    "\n",
    "fig, axes = plt.subplots(1, 3, figsize=(16, 6))\n",
    "\n",
    "sns.heatmap(grouped1, ax=axes[0], annot=True, cmap='YlGnBu')\n",
    "axes[0].set_title(\"Heatmap 1: Parental Education Level\")\n",
    "\n",
    "sns.heatmap(grouped2, ax=axes[1], annot=True, cmap='coolwarm')\n",
    "axes[1].set_title(\"Heatmap 2: Diet Quality\")\n",
    "\n",
    "sns.heatmap(grouped3, ax=axes[2], annot=True, cmap='coolwarm')\n",
    "axes[2].set_title(\"Heatmap 3: Internet Quality\")\n",
    "\n",
    "plt.tight_layout()\n",
    "plt.show()"
   ]
  },
  {
   "cell_type": "markdown",
   "id": "a4b1598a",
   "metadata": {},
   "source": [
    "### One-Hot Encoding of Categorical Variables"
   ]
  },
  {
   "cell_type": "code",
   "execution_count": null,
   "id": "3d091cc1",
   "metadata": {},
   "outputs": [],
   "source": [
    "categorical_cols = df1.select_dtypes(include='object').columns\n",
    "df_encoded = pd.get_dummies(df1, columns=categorical_cols, drop_first=True)"
   ]
  },
  {
   "cell_type": "markdown",
   "id": "8ec83890",
   "metadata": {},
   "source": [
    "### Train-Test Split"
   ]
  },
  {
   "cell_type": "code",
   "execution_count": null,
   "id": "fb687d0a",
   "metadata": {},
   "outputs": [],
   "source": [
    "X = df_encoded.drop('exam_score', axis=1)\n",
    "y = df_encoded['exam_score']\n",
    "\n",
    "X_train, X_test, y_train, y_test = train_test_split(X, y, test_size=0.2, random_state=42)"
   ]
  },
  {
   "cell_type": "markdown",
   "id": "32b1b426",
   "metadata": {},
   "source": [
    "### Training the Linear Regression Model"
   ]
  },
  {
   "cell_type": "code",
   "execution_count": null,
   "id": "b1360822",
   "metadata": {},
   "outputs": [],
   "source": [
    "model = LinearRegression()\n",
    "model.fit(X_train, y_train)\n",
    "y_pred = model.predict(X_test)"
   ]
  },
  {
   "cell_type": "markdown",
   "id": "d287b163",
   "metadata": {},
   "source": [
    "### Model Evaluation"
   ]
  },
  {
   "cell_type": "code",
   "execution_count": null,
   "id": "66e5f245",
   "metadata": {},
   "outputs": [],
   "source": [
    "mae = mean_absolute_error(y_test, y_pred)\n",
    "mse = mean_squared_error(y_test, y_pred)\n",
    "rmse = np.sqrt(mse)\n",
    "r2 = r2_score(y_test, y_pred)\n",
    "\n",
    "print(f\"MAE: {mae}\")\n",
    "print(f\"MSE: {mse}\")\n",
    "print(f\"RMSE: {rmse}\")\n",
    "print(f\"R² Score: {r2}\")"
   ]
  }
 ],
 "metadata": {
  "kernelspec": {
   "display_name": "Python 3",
   "language": "python",
   "name": "python3"
  },
  "language_info": {
   "codemirror_mode": {
    "name": "ipython",
    "version": 3
   },
   "file_extension": ".py",
   "mimetype": "text/x-python",
   "name": "python",
   "nbconvert_exporter": "python",
   "pygments_lexer": "ipython3",
   "version": "3.13.1"
  }
 },
 "nbformat": 4,
 "nbformat_minor": 5
}
